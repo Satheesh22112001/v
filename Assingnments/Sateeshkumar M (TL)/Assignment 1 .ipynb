{
  "nbformat": 4,
  "nbformat_minor": 0,
  "metadata": {
    "colab": {
      "provenance": [],
      "collapsed_sections": []
    },
    "kernelspec": {
      "name": "python3",
      "display_name": "Python 3"
    },
    "language_info": {
      "name": "python"
    }
  },
  "cells": [
    {
      "cell_type": "markdown",
      "source": [
        "# **Basic Python**"
      ],
      "metadata": {
        "id": "y7_H1NiclAwA"
      }
    },
    {
      "cell_type": "markdown",
      "source": [
        "### **1. Split this string**"
      ],
      "metadata": {
        "id": "mhu-0rbVla83"
      }
    },
    {
      "cell_type": "code",
      "source": [
        "s=\"Hi there Mona!\"\n",
        "s.split()"
      ],
      "metadata": {
        "colab": {
          "base_uri": "https://localhost:8080/"
        },
        "id": "OQhUzM4Llfxx",
        "outputId": "8dc973be-99d5-4076-9a39-be7ee034f5d6"
      },
      "execution_count": null,
      "outputs": [
        {
          "output_type": "execute_result",
          "data": {
            "text/plain": [
              "['Hi', 'there', 'Mona!']"
            ]
          },
          "metadata": {},
          "execution_count": 2
        }
      ]
    },
    {
      "cell_type": "markdown",
      "source": [
        "### **2. Use .format() to print the following string.**"
      ],
      "metadata": {
        "id": "oGkGEVqtmKEO"
      }
    },
    {
      "cell_type": "markdown",
      "source": [
        "Output should be: The diameter of Earth is 12742 kilometers.bold text"
      ],
      "metadata": {
        "id": "FlXHapaDm4rm"
      }
    },
    {
      "cell_type": "code",
      "source": [
        "planet=\"Earth\"\n",
        "diameter=12742"
      ],
      "metadata": {
        "id": "Twy3Ig9Bm-tD"
      },
      "execution_count": null,
      "outputs": []
    },
    {
      "cell_type": "code",
      "source": [
        "print(\"The diameter of {} is {} kilometer\".format(planet,diameter));"
      ],
      "metadata": {
        "colab": {
          "base_uri": "https://localhost:8080/"
        },
        "id": "_xj5P10lnL3v",
        "outputId": "711faab0-4ea8-41ca-8b10-58e6a731d238"
      },
      "execution_count": null,
      "outputs": [
        {
          "output_type": "stream",
          "name": "stdout",
          "text": [
            "The diameter of Earth is 12742 kilometer\n"
          ]
        }
      ]
    },
    {
      "cell_type": "markdown",
      "source": [
        "### **3. In this nest dictionary grab the word \"hello\"**\n"
      ],
      "metadata": {
        "id": "sFGq9vxjzV1D"
      }
    },
    {
      "cell_type": "code",
      "source": [
        "d = {'k1':[1,2,3,{'tricky':['oh','man','inception',{'target':[1,2,3,'hello']}]}]}"
      ],
      "metadata": {
        "id": "p_8B-qPazegm"
      },
      "execution_count": null,
      "outputs": []
    },
    {
      "cell_type": "code",
      "source": [
        "d['k1'][3]['tricky'][3]['target'][3]"
      ],
      "metadata": {
        "colab": {
          "base_uri": "https://localhost:8080/",
          "height": 35
        },
        "id": "s-5RryC-zqLG",
        "outputId": "d08e4213-5a8d-4d2c-82a9-8703aad620d3"
      },
      "execution_count": null,
      "outputs": [
        {
          "output_type": "execute_result",
          "data": {
            "text/plain": [
              "'hello'"
            ],
            "application/vnd.google.colaboratory.intrinsic+json": {
              "type": "string"
            }
          },
          "metadata": {},
          "execution_count": 13
        }
      ]
    },
    {
      "cell_type": "markdown",
      "source": [
        "## **Numpy**"
      ],
      "metadata": {
        "id": "TnZQZVEw0MDV"
      }
    },
    {
      "cell_type": "code",
      "source": [
        "import numpy as np"
      ],
      "metadata": {
        "id": "qm9WqyCp0Ljs"
      },
      "execution_count": null,
      "outputs": []
    },
    {
      "cell_type": "markdown",
      "source": [
        "**4.1 Create an array of 10 zeros?**\n",
        "\n",
        "**4.2 Create an array of 10 threes?**"
      ],
      "metadata": {
        "id": "RJKZHLzl0ZEZ"
      }
    },
    {
      "cell_type": "code",
      "source": [
        "a=np.zeros(10)"
      ],
      "metadata": {
        "id": "8KLDGkGt0eck"
      },
      "execution_count": null,
      "outputs": []
    },
    {
      "cell_type": "code",
      "source": [
        "a"
      ],
      "metadata": {
        "colab": {
          "base_uri": "https://localhost:8080/"
        },
        "id": "U5HprF30098W",
        "outputId": "ac587692-e70f-4b8e-c484-45834f12187f"
      },
      "execution_count": null,
      "outputs": [
        {
          "output_type": "execute_result",
          "data": {
            "text/plain": [
              "array([0., 0., 0., 0., 0., 0., 0., 0., 0., 0.])"
            ]
          },
          "metadata": {},
          "execution_count": 7
        }
      ]
    },
    {
      "cell_type": "code",
      "source": [
        "b=np.ones(10)*5\n",
        "b"
      ],
      "metadata": {
        "colab": {
          "base_uri": "https://localhost:8080/"
        },
        "id": "KR4Y0BCf1FBS",
        "outputId": "ab8a3c90-0730-4aee-ac8c-0d85cbfd9d61"
      },
      "execution_count": null,
      "outputs": [
        {
          "output_type": "execute_result",
          "data": {
            "text/plain": [
              "array([5., 5., 5., 5., 5., 5., 5., 5., 5., 5.])"
            ]
          },
          "metadata": {},
          "execution_count": 8
        }
      ]
    },
    {
      "cell_type": "markdown",
      "source": [
        "### **5. Create an array of all the even integers from 30 to 55**"
      ],
      "metadata": {
        "id": "MJI6Z8fd27up"
      }
    },
    {
      "cell_type": "code",
      "source": [
        "s=np.arange(30,55,2)"
      ],
      "metadata": {
        "id": "XMRgaHtJ3CiY"
      },
      "execution_count": null,
      "outputs": []
    },
    {
      "cell_type": "code",
      "source": [
        "s"
      ],
      "metadata": {
        "colab": {
          "base_uri": "https://localhost:8080/"
        },
        "id": "Rm7p3VRG3Wzq",
        "outputId": "b9c4d03f-fc81-49e3-818a-e272a51346dd"
      },
      "execution_count": null,
      "outputs": [
        {
          "output_type": "execute_result",
          "data": {
            "text/plain": [
              "array([30, 32, 34, 36, 38, 40, 42, 44, 46, 48, 50, 52, 54])"
            ]
          },
          "metadata": {},
          "execution_count": 16
        }
      ]
    },
    {
      "cell_type": "markdown",
      "source": [
        "### **6. Create a 5x5 matrix with values ranging from 0 to 9**"
      ],
      "metadata": {
        "id": "aQTfH5n03ZMx"
      }
    },
    {
      "cell_type": "code",
      "source": [
        "b=np.arange(0,9).reshape(3,3)\n",
        "b"
      ],
      "metadata": {
        "colab": {
          "base_uri": "https://localhost:8080/"
        },
        "id": "XcavkYdY3kTR",
        "outputId": "baa19b13-3e33-4d57-f38e-ef692f0b3782"
      },
      "execution_count": null,
      "outputs": [
        {
          "output_type": "execute_result",
          "data": {
            "text/plain": [
              "array([[0, 1, 2],\n",
              "       [3, 4, 5],\n",
              "       [6, 7, 8]])"
            ]
          },
          "metadata": {},
          "execution_count": 17
        }
      ]
    },
    {
      "cell_type": "markdown",
      "source": [
        "### **7. Concatinate a and b**\n",
        "**a = [3, 5, 7]**\n",
        "\n",
        "**b = [2, 4, 6]**"
      ],
      "metadata": {
        "id": "SqNfkLcD4SBy"
      }
    },
    {
      "cell_type": "code",
      "source": [
        "a=np.array([3,5,7])\n",
        "b=np.array([2,4,6])"
      ],
      "metadata": {
        "id": "HukLt7164Twt"
      },
      "execution_count": null,
      "outputs": []
    },
    {
      "cell_type": "code",
      "source": [
        "np.concatenate((a,b))"
      ],
      "metadata": {
        "colab": {
          "base_uri": "https://localhost:8080/"
        },
        "id": "QgHwP0yb5Dmv",
        "outputId": "d754dc51-93d4-414f-85cc-da786f7feda1"
      },
      "execution_count": null,
      "outputs": [
        {
          "output_type": "execute_result",
          "data": {
            "text/plain": [
              "array([3, 5, 7, 2, 4, 6])"
            ]
          },
          "metadata": {},
          "execution_count": 24
        }
      ]
    },
    {
      "cell_type": "markdown",
      "source": [
        "### **7.1 . Concatinate a and b with sort**\n"
      ],
      "metadata": {
        "id": "outrMZNi5Sut"
      }
    },
    {
      "cell_type": "code",
      "source": [
        "k=sorted(np.concatenate((a,b),axis=0))\n",
        "k"
      ],
      "metadata": {
        "colab": {
          "base_uri": "https://localhost:8080/"
        },
        "id": "JU0e5Ted5gi6",
        "outputId": "16f42072-65bc-4d6b-a6d7-fe4d20fc2665"
      },
      "execution_count": null,
      "outputs": [
        {
          "output_type": "execute_result",
          "data": {
            "text/plain": [
              "[2, 3, 4, 5, 6, 7]"
            ]
          },
          "metadata": {},
          "execution_count": 29
        }
      ]
    },
    {
      "cell_type": "markdown",
      "source": [
        "## **Pandas**"
      ],
      "metadata": {
        "id": "64dmxHNU5-nv"
      }
    },
    {
      "cell_type": "code",
      "source": [
        "import pandas as pd"
      ],
      "metadata": {
        "id": "vcsaRetd6BCp"
      },
      "execution_count": 3,
      "outputs": []
    },
    {
      "cell_type": "code",
      "source": [
        "d = {\"names\":[\"satheesh\",\"anbu\",\"karthi\",\"palani\"],\"age\":[21,21,20,20]}\n",
        "df = pd.DataFrame(d)\n",
        "df"
      ],
      "metadata": {
        "colab": {
          "base_uri": "https://localhost:8080/",
          "height": 175
        },
        "id": "GPzITazD6JML",
        "outputId": "6212968e-fd74-4cbc-d0e6-64c35b75cac4"
      },
      "execution_count": null,
      "outputs": [
        {
          "output_type": "execute_result",
          "data": {
            "text/plain": [
              "         names  age\n",
              "0     satheesh   21\n",
              "1         Anbu   21\n",
              "2       karthi   20\n",
              "3       palani   20"
            ],
            "text/html": [
              "\n",
              "  <div id=\"df-8239e513-86cc-47d0-8ac0-bbe2d885d6e0\">\n",
              "    <div class=\"colab-df-container\">\n",
              "      <div>\n",
              "<style scoped>\n",
              "    .dataframe tbody tr th:only-of-type {\n",
              "        vertical-align: middle;\n",
              "    }\n",
              "\n",
              "    .dataframe tbody tr th {\n",
              "        vertical-align: top;\n",
              "    }\n",
              "\n",
              "    .dataframe thead th {\n",
              "        text-align: right;\n",
              "    }\n",
              "</style>\n",
              "<table border=\"1\" class=\"dataframe\">\n",
              "  <thead>\n",
              "    <tr style=\"text-align: right;\">\n",
              "      <th></th>\n",
              "      <th>names</th>\n",
              "      <th>age</th>\n",
              "    </tr>\n",
              "  </thead>\n",
              "  <tbody>\n",
              "    <tr>\n",
              "      <th>0</th>\n",
              "      <td>Kavipriya</td>\n",
              "      <td>21</td>\n",
              "    </tr>\n",
              "    <tr>\n",
              "      <th>1</th>\n",
              "      <td>Mohanapriya</td>\n",
              "      <td>21</td>\n",
              "    </tr>\n",
              "    <tr>\n",
              "      <th>2</th>\n",
              "      <td>Keerthana</td>\n",
              "      <td>20</td>\n",
              "    </tr>\n",
              "    <tr>\n",
              "      <th>3</th>\n",
              "      <td>Moulika</td>\n",
              "      <td>20</td>\n",
              "    </tr>\n",
              "  </tbody>\n",
              "</table>\n",
              "</div>\n",
              "      <button class=\"colab-df-convert\" onclick=\"convertToInteractive('df-8239e513-86cc-47d0-8ac0-bbe2d885d6e0')\"\n",
              "              title=\"Convert this dataframe to an interactive table.\"\n",
              "              style=\"display:none;\">\n",
              "        \n",
              "  <svg xmlns=\"http://www.w3.org/2000/svg\" height=\"24px\"viewBox=\"0 0 24 24\"\n",
              "       width=\"24px\">\n",
              "    <path d=\"M0 0h24v24H0V0z\" fill=\"none\"/>\n",
              "    <path d=\"M18.56 5.44l.94 2.06.94-2.06 2.06-.94-2.06-.94-.94-2.06-.94 2.06-2.06.94zm-11 1L8.5 8.5l.94-2.06 2.06-.94-2.06-.94L8.5 2.5l-.94 2.06-2.06.94zm10 10l.94 2.06.94-2.06 2.06-.94-2.06-.94-.94-2.06-.94 2.06-2.06.94z\"/><path d=\"M17.41 7.96l-1.37-1.37c-.4-.4-.92-.59-1.43-.59-.52 0-1.04.2-1.43.59L10.3 9.45l-7.72 7.72c-.78.78-.78 2.05 0 2.83L4 21.41c.39.39.9.59 1.41.59.51 0 1.02-.2 1.41-.59l7.78-7.78 2.81-2.81c.8-.78.8-2.07 0-2.86zM5.41 20L4 18.59l7.72-7.72 1.47 1.35L5.41 20z\"/>\n",
              "  </svg>\n",
              "      </button>\n",
              "      \n",
              "  <style>\n",
              "    .colab-df-container {\n",
              "      display:flex;\n",
              "      flex-wrap:wrap;\n",
              "      gap: 12px;\n",
              "    }\n",
              "\n",
              "    .colab-df-convert {\n",
              "      background-color: #E8F0FE;\n",
              "      border: none;\n",
              "      border-radius: 50%;\n",
              "      cursor: pointer;\n",
              "      display: none;\n",
              "      fill: #1967D2;\n",
              "      height: 32px;\n",
              "      padding: 0 0 0 0;\n",
              "      width: 32px;\n",
              "    }\n",
              "\n",
              "    .colab-df-convert:hover {\n",
              "      background-color: #E2EBFA;\n",
              "      box-shadow: 0px 1px 2px rgba(60, 64, 67, 0.3), 0px 1px 3px 1px rgba(60, 64, 67, 0.15);\n",
              "      fill: #174EA6;\n",
              "    }\n",
              "\n",
              "    [theme=dark] .colab-df-convert {\n",
              "      background-color: #3B4455;\n",
              "      fill: #D2E3FC;\n",
              "    }\n",
              "\n",
              "    [theme=dark] .colab-df-convert:hover {\n",
              "      background-color: #434B5C;\n",
              "      box-shadow: 0px 1px 3px 1px rgba(0, 0, 0, 0.15);\n",
              "      filter: drop-shadow(0px 1px 2px rgba(0, 0, 0, 0.3));\n",
              "      fill: #FFFFFF;\n",
              "    }\n",
              "  </style>\n",
              "\n",
              "      <script>\n",
              "        const buttonEl =\n",
              "          document.querySelector('#df-8239e513-86cc-47d0-8ac0-bbe2d885d6e0 button.colab-df-convert');\n",
              "        buttonEl.style.display =\n",
              "          google.colab.kernel.accessAllowed ? 'block' : 'none';\n",
              "\n",
              "        async function convertToInteractive(key) {\n",
              "          const element = document.querySelector('#df-8239e513-86cc-47d0-8ac0-bbe2d885d6e0');\n",
              "          const dataTable =\n",
              "            await google.colab.kernel.invokeFunction('convertToInteractive',\n",
              "                                                     [key], {});\n",
              "          if (!dataTable) return;\n",
              "\n",
              "          const docLinkHtml = 'Like what you see? Visit the ' +\n",
              "            '<a target=\"_blank\" href=https://colab.research.google.com/notebooks/data_table.ipynb>data table notebook</a>'\n",
              "            + ' to learn more about interactive tables.';\n",
              "          element.innerHTML = '';\n",
              "          dataTable['output_type'] = 'display_data';\n",
              "          await google.colab.output.renderOutput(dataTable, element);\n",
              "          const docLink = document.createElement('div');\n",
              "          docLink.innerHTML = docLinkHtml;\n",
              "          element.appendChild(docLink);\n",
              "        }\n",
              "      </script>\n",
              "    </div>\n",
              "  </div>\n",
              "  "
            ]
          },
          "metadata": {},
          "execution_count": 11
        }
      ]
    },
    {
      "cell_type": "markdown",
      "source": [
        "### **9. Generate the series of dates from 1st Nov, 2022 to 20st Dec, 2022**"
      ],
      "metadata": {
        "id": "JAhLZXGH6wIu"
      }
    },
    {
      "cell_type": "code",
      "source": [
        "m= pd.date_range(start='1-11-2022',end='20-12-2022')\n",
        "for i in m:\n",
        "  print(i)"
      ],
      "metadata": {
        "colab": {
          "base_uri": "https://localhost:8080/"
        },
        "id": "P1RhPmru6y69",
        "outputId": "38ac2e06-b45d-4fb4-fe27-6b50f6a05c0b"
      },
      "execution_count": null,
      "outputs": [
        {
          "output_type": "stream",
          "name": "stdout",
          "text": [
            "2022-01-11 00:00:00\n",
            "2022-01-12 00:00:00\n",
            "2022-01-13 00:00:00\n",
            "2022-01-14 00:00:00\n",
            "2022-01-15 00:00:00\n",
            "2022-01-16 00:00:00\n",
            "2022-01-17 00:00:00\n",
            "2022-01-18 00:00:00\n",
            "2022-01-19 00:00:00\n",
            "2022-01-20 00:00:00\n",
            "2022-01-21 00:00:00\n",
            "2022-01-22 00:00:00\n",
            "2022-01-23 00:00:00\n",
            "2022-01-24 00:00:00\n",
            "2022-01-25 00:00:00\n",
            "2022-01-26 00:00:00\n",
            "2022-01-27 00:00:00\n",
            "2022-01-28 00:00:00\n",
            "2022-01-29 00:00:00\n",
            "2022-01-30 00:00:00\n",
            "2022-01-31 00:00:00\n",
            "2022-02-01 00:00:00\n",
            "2022-02-02 00:00:00\n",
            "2022-02-03 00:00:00\n",
            "2022-02-04 00:00:00\n",
            "2022-02-05 00:00:00\n",
            "2022-02-06 00:00:00\n",
            "2022-02-07 00:00:00\n",
            "2022-02-08 00:00:00\n",
            "2022-02-09 00:00:00\n",
            "2022-02-10 00:00:00\n",
            "2022-02-11 00:00:00\n",
            "2022-02-12 00:00:00\n",
            "2022-02-13 00:00:00\n",
            "2022-02-14 00:00:00\n",
            "2022-02-15 00:00:00\n",
            "2022-02-16 00:00:00\n",
            "2022-02-17 00:00:00\n",
            "2022-02-18 00:00:00\n",
            "2022-02-19 00:00:00\n",
            "2022-02-20 00:00:00\n",
            "2022-02-21 00:00:00\n",
            "2022-02-22 00:00:00\n",
            "2022-02-23 00:00:00\n",
            "2022-02-24 00:00:00\n",
            "2022-02-25 00:00:00\n",
            "2022-02-26 00:00:00\n",
            "2022-02-27 00:00:00\n",
            "2022-02-28 00:00:00\n",
            "2022-03-01 00:00:00\n",
            "2022-03-02 00:00:00\n",
            "2022-03-03 00:00:00\n",
            "2022-03-04 00:00:00\n",
            "2022-03-05 00:00:00\n",
            "2022-03-06 00:00:00\n",
            "2022-03-07 00:00:00\n",
            "2022-03-08 00:00:00\n",
            "2022-03-09 00:00:00\n",
            "2022-03-10 00:00:00\n",
            "2022-03-11 00:00:00\n",
            "2022-03-12 00:00:00\n",
            "2022-03-13 00:00:00\n",
            "2022-03-14 00:00:00\n",
            "2022-03-15 00:00:00\n",
            "2022-03-16 00:00:00\n",
            "2022-03-17 00:00:00\n",
            "2022-03-18 00:00:00\n",
            "2022-03-19 00:00:00\n",
            "2022-03-20 00:00:00\n",
            "2022-03-21 00:00:00\n",
            "2022-03-22 00:00:00\n",
            "2022-03-23 00:00:00\n",
            "2022-03-24 00:00:00\n",
            "2022-03-25 00:00:00\n",
            "2022-03-26 00:00:00\n",
            "2022-03-27 00:00:00\n",
            "2022-03-28 00:00:00\n",
            "2022-03-29 00:00:00\n",
            "2022-03-30 00:00:00\n",
            "2022-03-31 00:00:00\n",
            "2022-04-01 00:00:00\n",
            "2022-04-02 00:00:00\n",
            "2022-04-03 00:00:00\n",
            "2022-04-04 00:00:00\n",
            "2022-04-05 00:00:00\n",
            "2022-04-06 00:00:00\n",
            "2022-04-07 00:00:00\n",
            "2022-04-08 00:00:00\n",
            "2022-04-09 00:00:00\n",
            "2022-04-10 00:00:00\n",
            "2022-04-11 00:00:00\n",
            "2022-04-12 00:00:00\n",
            "2022-04-13 00:00:00\n",
            "2022-04-14 00:00:00\n",
            "2022-04-15 00:00:00\n",
            "2022-04-16 00:00:00\n",
            "2022-04-17 00:00:00\n",
            "2022-04-18 00:00:00\n",
            "2022-04-19 00:00:00\n",
            "2022-04-20 00:00:00\n",
            "2022-04-21 00:00:00\n",
            "2022-04-22 00:00:00\n",
            "2022-04-23 00:00:00\n",
            "2022-04-24 00:00:00\n",
            "2022-04-25 00:00:00\n",
            "2022-04-26 00:00:00\n",
            "2022-04-27 00:00:00\n",
            "2022-04-28 00:00:00\n",
            "2022-04-29 00:00:00\n",
            "2022-04-30 00:00:00\n",
            "2022-05-01 00:00:00\n",
            "2022-05-02 00:00:00\n",
            "2022-05-03 00:00:00\n",
            "2022-05-04 00:00:00\n",
            "2022-05-05 00:00:00\n",
            "2022-05-06 00:00:00\n",
            "2022-05-07 00:00:00\n",
            "2022-05-08 00:00:00\n",
            "2022-05-09 00:00:00\n",
            "2022-05-10 00:00:00\n",
            "2022-05-11 00:00:00\n",
            "2022-05-12 00:00:00\n",
            "2022-05-13 00:00:00\n",
            "2022-05-14 00:00:00\n",
            "2022-05-15 00:00:00\n",
            "2022-05-16 00:00:00\n",
            "2022-05-17 00:00:00\n",
            "2022-05-18 00:00:00\n",
            "2022-05-19 00:00:00\n",
            "2022-05-20 00:00:00\n",
            "2022-05-21 00:00:00\n",
            "2022-05-22 00:00:00\n",
            "2022-05-23 00:00:00\n",
            "2022-05-24 00:00:00\n",
            "2022-05-25 00:00:00\n",
            "2022-05-26 00:00:00\n",
            "2022-05-27 00:00:00\n",
            "2022-05-28 00:00:00\n",
            "2022-05-29 00:00:00\n",
            "2022-05-30 00:00:00\n",
            "2022-05-31 00:00:00\n",
            "2022-06-01 00:00:00\n",
            "2022-06-02 00:00:00\n",
            "2022-06-03 00:00:00\n",
            "2022-06-04 00:00:00\n",
            "2022-06-05 00:00:00\n",
            "2022-06-06 00:00:00\n",
            "2022-06-07 00:00:00\n",
            "2022-06-08 00:00:00\n",
            "2022-06-09 00:00:00\n",
            "2022-06-10 00:00:00\n",
            "2022-06-11 00:00:00\n",
            "2022-06-12 00:00:00\n",
            "2022-06-13 00:00:00\n",
            "2022-06-14 00:00:00\n",
            "2022-06-15 00:00:00\n",
            "2022-06-16 00:00:00\n",
            "2022-06-17 00:00:00\n",
            "2022-06-18 00:00:00\n",
            "2022-06-19 00:00:00\n",
            "2022-06-20 00:00:00\n",
            "2022-06-21 00:00:00\n",
            "2022-06-22 00:00:00\n",
            "2022-06-23 00:00:00\n",
            "2022-06-24 00:00:00\n",
            "2022-06-25 00:00:00\n",
            "2022-06-26 00:00:00\n",
            "2022-06-27 00:00:00\n",
            "2022-06-28 00:00:00\n",
            "2022-06-29 00:00:00\n",
            "2022-06-30 00:00:00\n",
            "2022-07-01 00:00:00\n",
            "2022-07-02 00:00:00\n",
            "2022-07-03 00:00:00\n",
            "2022-07-04 00:00:00\n",
            "2022-07-05 00:00:00\n",
            "2022-07-06 00:00:00\n",
            "2022-07-07 00:00:00\n",
            "2022-07-08 00:00:00\n",
            "2022-07-09 00:00:00\n",
            "2022-07-10 00:00:00\n",
            "2022-07-11 00:00:00\n",
            "2022-07-12 00:00:00\n",
            "2022-07-13 00:00:00\n",
            "2022-07-14 00:00:00\n",
            "2022-07-15 00:00:00\n",
            "2022-07-16 00:00:00\n",
            "2022-07-17 00:00:00\n",
            "2022-07-18 00:00:00\n",
            "2022-07-19 00:00:00\n",
            "2022-07-20 00:00:00\n",
            "2022-07-21 00:00:00\n",
            "2022-07-22 00:00:00\n",
            "2022-07-23 00:00:00\n",
            "2022-07-24 00:00:00\n",
            "2022-07-25 00:00:00\n",
            "2022-07-26 00:00:00\n",
            "2022-07-27 00:00:00\n",
            "2022-07-28 00:00:00\n",
            "2022-07-29 00:00:00\n",
            "2022-07-30 00:00:00\n",
            "2022-07-31 00:00:00\n",
            "2022-08-01 00:00:00\n",
            "2022-08-02 00:00:00\n",
            "2022-08-03 00:00:00\n",
            "2022-08-04 00:00:00\n",
            "2022-08-05 00:00:00\n",
            "2022-08-06 00:00:00\n",
            "2022-08-07 00:00:00\n",
            "2022-08-08 00:00:00\n",
            "2022-08-09 00:00:00\n",
            "2022-08-10 00:00:00\n",
            "2022-08-11 00:00:00\n",
            "2022-08-12 00:00:00\n",
            "2022-08-13 00:00:00\n",
            "2022-08-14 00:00:00\n",
            "2022-08-15 00:00:00\n",
            "2022-08-16 00:00:00\n",
            "2022-08-17 00:00:00\n",
            "2022-08-18 00:00:00\n",
            "2022-08-19 00:00:00\n",
            "2022-08-20 00:00:00\n",
            "2022-08-21 00:00:00\n",
            "2022-08-22 00:00:00\n",
            "2022-08-23 00:00:00\n",
            "2022-08-24 00:00:00\n",
            "2022-08-25 00:00:00\n",
            "2022-08-26 00:00:00\n",
            "2022-08-27 00:00:00\n",
            "2022-08-28 00:00:00\n",
            "2022-08-29 00:00:00\n",
            "2022-08-30 00:00:00\n",
            "2022-08-31 00:00:00\n",
            "2022-09-01 00:00:00\n",
            "2022-09-02 00:00:00\n",
            "2022-09-03 00:00:00\n",
            "2022-09-04 00:00:00\n",
            "2022-09-05 00:00:00\n",
            "2022-09-06 00:00:00\n",
            "2022-09-07 00:00:00\n",
            "2022-09-08 00:00:00\n",
            "2022-09-09 00:00:00\n",
            "2022-09-10 00:00:00\n",
            "2022-09-11 00:00:00\n",
            "2022-09-12 00:00:00\n",
            "2022-09-13 00:00:00\n",
            "2022-09-14 00:00:00\n",
            "2022-09-15 00:00:00\n",
            "2022-09-16 00:00:00\n",
            "2022-09-17 00:00:00\n",
            "2022-09-18 00:00:00\n",
            "2022-09-19 00:00:00\n",
            "2022-09-20 00:00:00\n",
            "2022-09-21 00:00:00\n",
            "2022-09-22 00:00:00\n",
            "2022-09-23 00:00:00\n",
            "2022-09-24 00:00:00\n",
            "2022-09-25 00:00:00\n",
            "2022-09-26 00:00:00\n",
            "2022-09-27 00:00:00\n",
            "2022-09-28 00:00:00\n",
            "2022-09-29 00:00:00\n",
            "2022-09-30 00:00:00\n",
            "2022-10-01 00:00:00\n",
            "2022-10-02 00:00:00\n",
            "2022-10-03 00:00:00\n",
            "2022-10-04 00:00:00\n",
            "2022-10-05 00:00:00\n",
            "2022-10-06 00:00:00\n",
            "2022-10-07 00:00:00\n",
            "2022-10-08 00:00:00\n",
            "2022-10-09 00:00:00\n",
            "2022-10-10 00:00:00\n",
            "2022-10-11 00:00:00\n",
            "2022-10-12 00:00:00\n",
            "2022-10-13 00:00:00\n",
            "2022-10-14 00:00:00\n",
            "2022-10-15 00:00:00\n",
            "2022-10-16 00:00:00\n",
            "2022-10-17 00:00:00\n",
            "2022-10-18 00:00:00\n",
            "2022-10-19 00:00:00\n",
            "2022-10-20 00:00:00\n",
            "2022-10-21 00:00:00\n",
            "2022-10-22 00:00:00\n",
            "2022-10-23 00:00:00\n",
            "2022-10-24 00:00:00\n",
            "2022-10-25 00:00:00\n",
            "2022-10-26 00:00:00\n",
            "2022-10-27 00:00:00\n",
            "2022-10-28 00:00:00\n",
            "2022-10-29 00:00:00\n",
            "2022-10-30 00:00:00\n",
            "2022-10-31 00:00:00\n",
            "2022-11-01 00:00:00\n",
            "2022-11-02 00:00:00\n",
            "2022-11-03 00:00:00\n",
            "2022-11-04 00:00:00\n",
            "2022-11-05 00:00:00\n",
            "2022-11-06 00:00:00\n",
            "2022-11-07 00:00:00\n",
            "2022-11-08 00:00:00\n",
            "2022-11-09 00:00:00\n",
            "2022-11-10 00:00:00\n",
            "2022-11-11 00:00:00\n",
            "2022-11-12 00:00:00\n",
            "2022-11-13 00:00:00\n",
            "2022-11-14 00:00:00\n",
            "2022-11-15 00:00:00\n",
            "2022-11-16 00:00:00\n",
            "2022-11-17 00:00:00\n",
            "2022-11-18 00:00:00\n",
            "2022-11-19 00:00:00\n",
            "2022-11-20 00:00:00\n",
            "2022-11-21 00:00:00\n",
            "2022-11-22 00:00:00\n",
            "2022-11-23 00:00:00\n",
            "2022-11-24 00:00:00\n",
            "2022-11-25 00:00:00\n",
            "2022-11-26 00:00:00\n",
            "2022-11-27 00:00:00\n",
            "2022-11-28 00:00:00\n",
            "2022-11-29 00:00:00\n",
            "2022-11-30 00:00:00\n",
            "2022-12-01 00:00:00\n",
            "2022-12-02 00:00:00\n",
            "2022-12-03 00:00:00\n",
            "2022-12-04 00:00:00\n",
            "2022-12-05 00:00:00\n",
            "2022-12-06 00:00:00\n",
            "2022-12-07 00:00:00\n",
            "2022-12-08 00:00:00\n",
            "2022-12-09 00:00:00\n",
            "2022-12-10 00:00:00\n",
            "2022-12-11 00:00:00\n",
            "2022-12-12 00:00:00\n",
            "2022-12-13 00:00:00\n",
            "2022-12-14 00:00:00\n",
            "2022-12-15 00:00:00\n",
            "2022-12-16 00:00:00\n",
            "2022-12-17 00:00:00\n",
            "2022-12-18 00:00:00\n",
            "2022-12-19 00:00:00\n",
            "2022-12-20 00:00:00\n"
          ]
        }
      ]
    },
    {
      "cell_type": "markdown",
      "source": [
        "### **10. Create 2D list to DataFrame**\n",
        "\n",
        "**l = [[1, 'satheesh', 21], [2, 'Anbu', 22], [3, 'karthi', 20],[4,'palani',20]]**"
      ],
      "metadata": {
        "id": "XTuZvayY7bPH"
      }
    },
    {
      "cell_type": "code",
      "source": [
        "l= [[1, 'satheesh', 21], [2, 'Anbu', 21], [3, 'karthi', 20],[4,'palani',20]]\n"
      ],
      "metadata": {
        "id": "QfWoHLvm72jU"
      },
      "execution_count": 1,
      "outputs": []
    },
    {
      "cell_type": "code",
      "source": [
        "print(pd.DataFrame(l))"
      ],
      "metadata": {
        "colab": {
          "base_uri": "https://localhost:8080/"
        },
        "id": "9MRGHg_Z783Z",
        "outputId": "dce2fe58-4e15-4904-9cf0-b6c05671d16c"
      },
      "execution_count": 4,
      "outputs": [
        {
          "output_type": "stream",
          "name": "stdout",
          "text": [
            "   0            1   2\n",
            "0        Satheesh  21\n",
            "1  2         Anbu  21\n",
            "2  3       Karthi  20\n",
            "3  4       Palani  20\n"
          ]
        }
      ]
    }
  ]
}
